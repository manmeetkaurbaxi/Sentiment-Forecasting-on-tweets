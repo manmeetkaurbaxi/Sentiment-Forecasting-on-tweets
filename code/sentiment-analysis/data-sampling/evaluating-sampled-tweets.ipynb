{
 "cells": [
  {
   "cell_type": "code",
   "execution_count": 1,
   "metadata": {},
   "outputs": [],
   "source": [
    "import pandas as pd\n",
    "import numpy as np\n",
    "import krippendorff"
   ]
  },
  {
   "cell_type": "code",
   "execution_count": 2,
   "metadata": {},
   "outputs": [],
   "source": [
    "PATH = '../data/data-labelling/annotated-data/'\n",
    "andy_df = pd.read_csv(PATH+'Andy.csv')\n",
    "preethi_df = pd.read_csv(PATH+'Preethi.csv')\n",
    "ravihari_df = pd.read_csv(PATH+'Ravihari.csv')\n",
    "\n",
    "masked_data = pd.read_csv('../data/data-labelling/masked-data-for-labelling.csv')\n",
    "model_data = pd.read_csv('../data/data-labelling/masked-data-with-labels.csv')"
   ]
  },
  {
   "cell_type": "code",
   "execution_count": 3,
   "metadata": {},
   "outputs": [
    {
     "data": {
      "text/plain": [
       "Index(['id', 'created_at', 'conversation_id', 'tweet', 'username', 'Sentiment',\n",
       "       'Unnamed: 6'],\n",
       "      dtype='object')"
      ]
     },
     "execution_count": 3,
     "metadata": {},
     "output_type": "execute_result"
    }
   ],
   "source": [
    "andy_df.columns"
   ]
  },
  {
   "cell_type": "code",
   "execution_count": 4,
   "metadata": {},
   "outputs": [],
   "source": [
    "masked_data['Sentiment(Andy)'] = andy_df['Sentiment']\n",
    "masked_data['Sentiment(Preethi)'] = preethi_df['Sentiment']\n",
    "masked_data['Sentiment(Ravihari)'] = ravihari_df['Sentiment']"
   ]
  },
  {
   "cell_type": "code",
   "execution_count": 5,
   "metadata": {},
   "outputs": [
    {
     "data": {
      "text/html": [
       "<div>\n",
       "<style scoped>\n",
       "    .dataframe tbody tr th:only-of-type {\n",
       "        vertical-align: middle;\n",
       "    }\n",
       "\n",
       "    .dataframe tbody tr th {\n",
       "        vertical-align: top;\n",
       "    }\n",
       "\n",
       "    .dataframe thead th {\n",
       "        text-align: right;\n",
       "    }\n",
       "</style>\n",
       "<table border=\"1\" class=\"dataframe\">\n",
       "  <thead>\n",
       "    <tr style=\"text-align: right;\">\n",
       "      <th></th>\n",
       "      <th>id</th>\n",
       "      <th>created_at</th>\n",
       "      <th>conversation_id</th>\n",
       "      <th>tweet</th>\n",
       "      <th>username</th>\n",
       "      <th>Sentiment(Andy)</th>\n",
       "      <th>Sentiment(Preethi)</th>\n",
       "      <th>Sentiment(Ravihari)</th>\n",
       "    </tr>\n",
       "  </thead>\n",
       "  <tbody>\n",
       "    <tr>\n",
       "      <th>0</th>\n",
       "      <td>1443684606004318218</td>\n",
       "      <td>2021-09-30 21:10:07+00:00</td>\n",
       "      <td>1443684606004318218</td>\n",
       "      <td>#COVID19 cases are decreasing in the U.S. but ...</td>\n",
       "      <td>CDC</td>\n",
       "      <td>POSITIVE</td>\n",
       "      <td>POSITIVE</td>\n",
       "      <td>NEGATIVE</td>\n",
       "    </tr>\n",
       "    <tr>\n",
       "      <th>1</th>\n",
       "      <td>1438928262080696324</td>\n",
       "      <td>2021-09-17 18:10:06+00:00</td>\n",
       "      <td>1438928262080696324</td>\n",
       "      <td>Many hospitals are overwhelmed with #COVID19 p...</td>\n",
       "      <td>CDC</td>\n",
       "      <td>NEGATIVE</td>\n",
       "      <td>NEGATIVE</td>\n",
       "      <td>NEGATIVE</td>\n",
       "    </tr>\n",
       "    <tr>\n",
       "      <th>2</th>\n",
       "      <td>1433497474791006208</td>\n",
       "      <td>2021-09-02 18:30:05+00:00</td>\n",
       "      <td>1433497474791006208</td>\n",
       "      <td>In addition to known risk factors for severe #...</td>\n",
       "      <td>CDC</td>\n",
       "      <td>NEUTRAL</td>\n",
       "      <td>NEGATIVE</td>\n",
       "      <td>NEGATIVE</td>\n",
       "    </tr>\n",
       "    <tr>\n",
       "      <th>3</th>\n",
       "      <td>1428386373166374912</td>\n",
       "      <td>2021-08-19 16:00:24+00:00</td>\n",
       "      <td>1428386373166374912</td>\n",
       "      <td>Join CDC’s #COVID19 Partner Update Call Monday...</td>\n",
       "      <td>CDC</td>\n",
       "      <td>NEUTRAL</td>\n",
       "      <td>NEUTRAL</td>\n",
       "      <td>NEUTRAL</td>\n",
       "    </tr>\n",
       "    <tr>\n",
       "      <th>4</th>\n",
       "      <td>1422649478365040640</td>\n",
       "      <td>2021-08-03 20:04:01+00:00</td>\n",
       "      <td>1422649478365040640</td>\n",
       "      <td>Teachers &amp;amp; therapists: #COVID19 materials ...</td>\n",
       "      <td>CDC</td>\n",
       "      <td>NEUTRAL</td>\n",
       "      <td>POSITIVE</td>\n",
       "      <td>POSITIVE</td>\n",
       "    </tr>\n",
       "  </tbody>\n",
       "</table>\n",
       "</div>"
      ],
      "text/plain": [
       "                    id                 created_at      conversation_id  \\\n",
       "0  1443684606004318218  2021-09-30 21:10:07+00:00  1443684606004318218   \n",
       "1  1438928262080696324  2021-09-17 18:10:06+00:00  1438928262080696324   \n",
       "2  1433497474791006208  2021-09-02 18:30:05+00:00  1433497474791006208   \n",
       "3  1428386373166374912  2021-08-19 16:00:24+00:00  1428386373166374912   \n",
       "4  1422649478365040640  2021-08-03 20:04:01+00:00  1422649478365040640   \n",
       "\n",
       "                                               tweet username Sentiment(Andy)  \\\n",
       "0  #COVID19 cases are decreasing in the U.S. but ...      CDC        POSITIVE   \n",
       "1  Many hospitals are overwhelmed with #COVID19 p...      CDC        NEGATIVE   \n",
       "2  In addition to known risk factors for severe #...      CDC         NEUTRAL   \n",
       "3  Join CDC’s #COVID19 Partner Update Call Monday...      CDC         NEUTRAL   \n",
       "4  Teachers &amp; therapists: #COVID19 materials ...      CDC         NEUTRAL   \n",
       "\n",
       "  Sentiment(Preethi) Sentiment(Ravihari)  \n",
       "0           POSITIVE            NEGATIVE  \n",
       "1           NEGATIVE            NEGATIVE  \n",
       "2           NEGATIVE            NEGATIVE  \n",
       "3            NEUTRAL             NEUTRAL  \n",
       "4           POSITIVE            POSITIVE  "
      ]
     },
     "execution_count": 5,
     "metadata": {},
     "output_type": "execute_result"
    }
   ],
   "source": [
    "masked_data.head()"
   ]
  },
  {
   "cell_type": "code",
   "execution_count": 6,
   "metadata": {},
   "outputs": [],
   "source": [
    "# Get the most frequent Sentiment label from three annotators\n",
    "sentiment = masked_data[['Sentiment(Andy)','Sentiment(Preethi)','Sentiment(Ravihari)']].mode(axis=1)\n",
    "masked_data['Sentiment'] = sentiment[0].values\n",
    "\n",
    "masked_data.to_csv('../data/data-labelling/annotated-data.csv', index=False)"
   ]
  },
  {
   "cell_type": "code",
   "execution_count": 7,
   "metadata": {},
   "outputs": [
    {
     "name": "stdout",
     "output_type": "stream",
     "text": [
      "Krippendorff's alpha: 0.18431346501637658\n"
     ]
    }
   ],
   "source": [
    "# Calculate inter-annotator agreement \n",
    "\n",
    "# Convert strings to labels\n",
    "sentiments = {'POSITIVE':0, 'NEGATIVE':1, 'NEUTRAL':2}\n",
    "\n",
    "masked_data['Sentiment1'] = masked_data['Sentiment(Andy)'].apply(lambda x:sentiments[x])\n",
    "masked_data['Sentiment2'] = masked_data['Sentiment(Preethi)'].apply(lambda x:sentiments[x])\n",
    "masked_data['Sentiment3'] = masked_data['Sentiment(Ravihari)'].apply(lambda x:sentiments[x])\n",
    "\n",
    "sentiment_df = masked_data[['Sentiment1','Sentiment2','Sentiment3']]\n",
    "\n",
    "# Use Kripendorff's alpha\n",
    "k_alpha = krippendorff.alpha(reliability_data=sentiment_df)\n",
    "print('Krippendorff\\'s alpha:', k_alpha)"
   ]
  },
  {
   "cell_type": "code",
   "execution_count": 8,
   "metadata": {},
   "outputs": [
    {
     "name": "stderr",
     "output_type": "stream",
     "text": [
      "C:\\Users\\manme\\AppData\\Local\\Temp/ipykernel_19808/957277318.py:15: SettingWithCopyWarning: \n",
      "A value is trying to be set on a copy of a slice from a DataFrame.\n",
      "Try using .loc[row_indexer,col_indexer] = value instead\n",
      "\n",
      "See the caveats in the documentation: https://pandas.pydata.org/pandas-docs/stable/user_guide/indexing.html#returning-a-view-versus-a-copy\n",
      "  no_conflict_df['Sentiment'] = sentiment[0].values\n"
     ]
    }
   ],
   "source": [
    "# Get the tweets with no-conflict labels\n",
    "no_conflict_df = pd.DataFrame(columns=masked_data.columns)\n",
    "\n",
    "# Check the number of unique labels in three columns and select rows with less than equal to 2 unique labels\n",
    "no_conflict_series = masked_data[['Sentiment(Andy)','Sentiment(Preethi)','Sentiment(Ravihari)']].nunique(axis=1)\n",
    "no_conflict_indices = []\n",
    "for index, value in no_conflict_series.items():\n",
    "    if value <= 2:\n",
    "        no_conflict_indices.append(index)\n",
    "\n",
    "no_conflict_df = masked_data[masked_data.index.isin(no_conflict_indices)]\n",
    "\n",
    "# Get the most frequent Sentiment label from three annotators\n",
    "sentiment = no_conflict_df[['Sentiment(Andy)','Sentiment(Preethi)','Sentiment(Ravihari)']].mode(axis=1)\n",
    "no_conflict_df['Sentiment'] = sentiment[0].values\n",
    "\n",
    "no_conflict_df.to_csv('../data/data-labelling/no-conflict-data.csv', index=False)"
   ]
  },
  {
   "cell_type": "code",
   "execution_count": 9,
   "metadata": {},
   "outputs": [
    {
     "name": "stdout",
     "output_type": "stream",
     "text": [
      "Krippendorff's alpha: 0.1775086267476066\n"
     ]
    },
    {
     "name": "stderr",
     "output_type": "stream",
     "text": [
      "C:\\Users\\manme\\AppData\\Local\\Temp/ipykernel_19808/725103389.py:6: SettingWithCopyWarning: \n",
      "A value is trying to be set on a copy of a slice from a DataFrame.\n",
      "Try using .loc[row_indexer,col_indexer] = value instead\n",
      "\n",
      "See the caveats in the documentation: https://pandas.pydata.org/pandas-docs/stable/user_guide/indexing.html#returning-a-view-versus-a-copy\n",
      "  no_conflict_df['Sentiment1'] = no_conflict_df['Sentiment(Andy)'].apply(lambda x:sentiments[x])\n",
      "C:\\Users\\manme\\AppData\\Local\\Temp/ipykernel_19808/725103389.py:7: SettingWithCopyWarning: \n",
      "A value is trying to be set on a copy of a slice from a DataFrame.\n",
      "Try using .loc[row_indexer,col_indexer] = value instead\n",
      "\n",
      "See the caveats in the documentation: https://pandas.pydata.org/pandas-docs/stable/user_guide/indexing.html#returning-a-view-versus-a-copy\n",
      "  no_conflict_df['Sentiment2'] = no_conflict_df['Sentiment(Preethi)'].apply(lambda x:sentiments[x])\n",
      "C:\\Users\\manme\\AppData\\Local\\Temp/ipykernel_19808/725103389.py:8: SettingWithCopyWarning: \n",
      "A value is trying to be set on a copy of a slice from a DataFrame.\n",
      "Try using .loc[row_indexer,col_indexer] = value instead\n",
      "\n",
      "See the caveats in the documentation: https://pandas.pydata.org/pandas-docs/stable/user_guide/indexing.html#returning-a-view-versus-a-copy\n",
      "  no_conflict_df['Sentiment3'] = no_conflict_df['Sentiment(Ravihari)'].apply(lambda x:sentiments[x])\n"
     ]
    }
   ],
   "source": [
    "# Calculate inter-annotator agreement \n",
    "\n",
    "# Convert strings to labels\n",
    "sentiments = {'POSITIVE':0, 'NEGATIVE':1, 'NEUTRAL':2}\n",
    "\n",
    "no_conflict_df['Sentiment1'] = no_conflict_df['Sentiment(Andy)'].apply(lambda x:sentiments[x])\n",
    "no_conflict_df['Sentiment2'] = no_conflict_df['Sentiment(Preethi)'].apply(lambda x:sentiments[x])\n",
    "no_conflict_df['Sentiment3'] = no_conflict_df['Sentiment(Ravihari)'].apply(lambda x:sentiments[x])\n",
    "\n",
    "sentiment_df = no_conflict_df[['Sentiment1','Sentiment2','Sentiment3']]\n",
    "\n",
    "# Use Kripendorff's alpha\n",
    "k_alpha = krippendorff.alpha(reliability_data=sentiment_df)\n",
    "print('Krippendorff\\'s alpha:', k_alpha)"
   ]
  },
  {
   "cell_type": "code",
   "execution_count": 11,
   "metadata": {},
   "outputs": [
    {
     "name": "stdout",
     "output_type": "stream",
     "text": [
      "0.6916666666666667\n"
     ]
    }
   ],
   "source": [
    "# Calculate similarity in human annotation & model labels\n",
    "masked_data['sentiment_predicted'] = model_data['sentiment']\n",
    "masked_data['sentiment_predicted'] = masked_data['sentiment_predicted'].replace({'positive':'POSITIVE', 'neutral':'NEUTRAL', 'negative':'NEGATIVE'})\n",
    "\n",
    "correct_sentiment_label = 0\n",
    "\n",
    "for index, row in masked_data.iterrows():\n",
    "    if row['Sentiment'] == row['sentiment_predicted']:\n",
    "        correct_sentiment_label += 1\n",
    "        \n",
    "print('Similarity in human & model labels:',correct_sentiment_label/3000)"
   ]
  },
  {
   "cell_type": "code",
   "execution_count": null,
   "metadata": {},
   "outputs": [],
   "source": []
  }
 ],
 "metadata": {
  "interpreter": {
   "hash": "ac59ebe37160ed0dfa835113d9b8498d9f09ceb179beaac4002f036b9467c963"
  },
  "kernelspec": {
   "display_name": "Python 3.9.9 64-bit",
   "language": "python",
   "name": "python3"
  },
  "language_info": {
   "codemirror_mode": {
    "name": "ipython",
    "version": 3
   },
   "file_extension": ".py",
   "mimetype": "text/x-python",
   "name": "python",
   "nbconvert_exporter": "python",
   "pygments_lexer": "ipython3",
   "version": "3.9.9"
  },
  "orig_nbformat": 4
 },
 "nbformat": 4,
 "nbformat_minor": 2
}
