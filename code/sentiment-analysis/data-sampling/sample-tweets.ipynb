{
 "cells": [
  {
   "cell_type": "code",
   "execution_count": null,
   "metadata": {},
   "outputs": [],
   "source": [
    "import pandas as pd\n",
    "import numpy as np\n",
    "import glob\n",
    "import os"
   ]
  },
  {
   "cell_type": "code",
   "execution_count": null,
   "metadata": {},
   "outputs": [],
   "source": [
    "def GetSpacedIndices(dataframe_indices, numOfElements=200):\n",
    "    indices = dataframe_indices[np.round(np.linspace(0, len(dataframe_indices)-1, numOfElements)).astype(int)]\n",
    "    return indices"
   ]
  },
  {
   "cell_type": "code",
   "execution_count": null,
   "metadata": {},
   "outputs": [],
   "source": [
    "govt_institutes = '../data/twitter/govt institutes/'\n",
    "ngo = '../data/twitter/ngo/'\n",
    "pharma_companies = '../data/twitter/pharma companies/'"
   ]
  },
  {
   "cell_type": "code",
   "execution_count": null,
   "metadata": {},
   "outputs": [],
   "source": [
    "gi_spaced_dataframe = pd.DataFrame(columns=['id','created_at','conversation_id','tweet','like_count','reply_count','retweet_count','quote_count','expanded_url','language','possibly_sensitive','in_reply_to_user_id','username'])\n",
    "\n",
    "for subdir, dirs, files in os.walk(govt_institutes):\n",
    "    for file in files:        \n",
    "        user_df = pd.read_csv(os.path.join(subdir,file))\n",
    "        organic_tweets = pd.DataFrame(columns=user_df.columns)\n",
    "        \n",
    "        for index, row in user_df.iterrows():\n",
    "            if row['tweet'].startswith('RT @'):\n",
    "                pass\n",
    "            else:\n",
    "                organic_tweets = organic_tweets.append(pd.Series(user_df.loc[index], index=user_df.columns).to_dict(), ignore_index=True)\n",
    "        \n",
    "        df_indices_arr = np.arange(organic_tweets.shape[0])\n",
    "        \n",
    "        spaced_indices = GetSpacedIndices(df_indices_arr)\n",
    "        \n",
    "        for index in spaced_indices:            \n",
    "            row = pd.Series(organic_tweets.loc[index], index=organic_tweets.columns).to_dict()\n",
    "            gi_spaced_dataframe = gi_spaced_dataframe.append(row, ignore_index=True) "
   ]
  },
  {
   "cell_type": "code",
   "execution_count": null,
   "metadata": {},
   "outputs": [],
   "source": [
    "print(gi_spaced_dataframe.shape)\n",
    "gi_spaced_dataframe.drop_duplicates()\n",
    "print(gi_spaced_dataframe.shape)"
   ]
  },
  {
   "cell_type": "code",
   "execution_count": null,
   "metadata": {},
   "outputs": [],
   "source": [
    "ngo_spaced_dataframe = pd.DataFrame(columns=['id','created_at','conversation_id','tweet','like_count','reply_count','retweet_count','quote_count','expanded_url','language','possibly_sensitive','in_reply_to_user_id','username'])\n",
    "\n",
    "for subdir, dirs, files in os.walk(ngo):\n",
    "    for file in files:        \n",
    "        user_df = pd.read_csv(os.path.join(subdir,file))\n",
    "        organic_tweets = pd.DataFrame(columns=user_df.columns)\n",
    "        \n",
    "        for index, row in user_df.iterrows():\n",
    "            if row['tweet'].startswith('RT @'):\n",
    "                pass\n",
    "            else:\n",
    "                organic_tweets = organic_tweets.append(pd.Series(user_df.loc[index], index=user_df.columns).to_dict(), ignore_index=True)\n",
    "        \n",
    "        df_indices_arr = np.arange(organic_tweets.shape[0])\n",
    "        \n",
    "        spaced_indices = GetSpacedIndices(df_indices_arr)\n",
    "        \n",
    "        for index in spaced_indices:            \n",
    "            row = pd.Series(organic_tweets.loc[index], index=organic_tweets.columns).to_dict()\n",
    "            ngo_spaced_dataframe = ngo_spaced_dataframe.append(row, ignore_index=True) "
   ]
  },
  {
   "cell_type": "code",
   "execution_count": null,
   "metadata": {},
   "outputs": [],
   "source": [
    "print(ngo_spaced_dataframe.shape)\n",
    "ngo_spaced_dataframe.drop_duplicates()\n",
    "print(ngo_spaced_dataframe.shape)"
   ]
  },
  {
   "cell_type": "code",
   "execution_count": null,
   "metadata": {},
   "outputs": [],
   "source": [
    "pc_spaced_dataframe = pd.DataFrame(columns=['id','created_at','conversation_id','tweet','like_count','reply_count','retweet_count','quote_count','expanded_url','language','possibly_sensitive','in_reply_to_user_id','username'])\n",
    "\n",
    "for subdir, dirs, files in os.walk(pharma_companies):\n",
    "    for file in files:        \n",
    "        user_df = pd.read_csv(os.path.join(subdir,file))\n",
    "        organic_tweets = pd.DataFrame(columns=user_df.columns)\n",
    "        \n",
    "        for index, row in user_df.iterrows():\n",
    "            if row['tweet'].startswith('RT @'):\n",
    "                pass\n",
    "            else:\n",
    "                organic_tweets = organic_tweets.append(pd.Series(user_df.loc[index], index=user_df.columns).to_dict(), ignore_index=True)\n",
    "        \n",
    "        df_indices_arr = np.arange(organic_tweets.shape[0])\n",
    "        \n",
    "        spaced_indices = GetSpacedIndices(df_indices_arr)\n",
    "        \n",
    "        for index in spaced_indices:            \n",
    "            row = pd.Series(organic_tweets.loc[index], index=organic_tweets.columns).to_dict()\n",
    "            pc_spaced_dataframe = pc_spaced_dataframe.append(row, ignore_index=True) "
   ]
  },
  {
   "cell_type": "code",
   "execution_count": null,
   "metadata": {},
   "outputs": [],
   "source": [
    "print(pc_spaced_dataframe.shape)\n",
    "pc_spaced_dataframe.drop_duplicates()\n",
    "print(pc_spaced_dataframe.shape)"
   ]
  },
  {
   "cell_type": "code",
   "execution_count": null,
   "metadata": {},
   "outputs": [],
   "source": [
    "spaced_dataframe = pd.concat([gi_spaced_dataframe, ngo_spaced_dataframe, pc_spaced_dataframe], ignore_index=True)\n",
    "print(spaced_dataframe.shape)\n",
    "\n",
    "masked_df = spaced_dataframe[['id','created_at','conversation_id','tweet','username']]\n",
    "masked_df.to_csv('../data/masked-data-for-labelling.csv', index=False)"
   ]
  },
  {
   "cell_type": "code",
   "execution_count": null,
   "metadata": {},
   "outputs": [],
   "source": []
  }
 ],
 "metadata": {
  "interpreter": {
   "hash": "ac59ebe37160ed0dfa835113d9b8498d9f09ceb179beaac4002f036b9467c963"
  },
  "kernelspec": {
   "display_name": "Python 3.9.9 64-bit",
   "language": "python",
   "name": "python3"
  },
  "language_info": {
   "codemirror_mode": {
    "name": "ipython",
    "version": 3
   },
   "file_extension": ".py",
   "mimetype": "text/x-python",
   "name": "python",
   "nbconvert_exporter": "python",
   "pygments_lexer": "ipython3",
   "version": "3.9.9"
  },
  "orig_nbformat": 4
 },
 "nbformat": 4,
 "nbformat_minor": 2
}
