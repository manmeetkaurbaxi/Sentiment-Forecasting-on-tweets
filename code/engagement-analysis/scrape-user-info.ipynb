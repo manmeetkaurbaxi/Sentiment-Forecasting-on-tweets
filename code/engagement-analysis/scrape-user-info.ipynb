{
 "cells": [
  {
   "cell_type": "code",
   "execution_count": 1,
   "metadata": {},
   "outputs": [],
   "source": [
    "import pandas as pd\n",
    "import tweepy\n",
    "import math\n",
    "import datetime\n",
    "import numpy as np\n",
    "from sklearn.preprocessing import LabelEncoder, MinMaxScaler, minmax_scale\n",
    "import plotly.express as px"
   ]
  },
  {
   "cell_type": "code",
   "execution_count": 2,
   "metadata": {},
   "outputs": [],
   "source": [
    "bearer_token = \"\"\n",
    "client = tweepy.Client(bearer_token=bearer_token)\n",
    "\n",
    "start_time = '2017-01-01T00:00:00Z'\n",
    "end_time = '2021-12-31T23:59:59Z'"
   ]
  },
  {
   "cell_type": "code",
   "execution_count": 3,
   "metadata": {},
   "outputs": [],
   "source": [
    "usernames = ['CDCgov','CDC_eHealth','GCIndigenous','GovCanHealth','HHSGov','IHSgov','InspectionCan','NIH','NIHB1','US_FDA','AstraZeneca','biogen','GSK','JNJNews','pfizer','WHO']"
   ]
  },
  {
   "cell_type": "code",
   "execution_count": 4,
   "metadata": {},
   "outputs": [],
   "source": [
    "user_info_df = pd.DataFrame(columns=['created_at','id','name','username','followers_count','following_count','tweet_count','listed_count','description','location','verified'])"
   ]
  },
  {
   "cell_type": "code",
   "execution_count": 5,
   "metadata": {},
   "outputs": [],
   "source": [
    "user_info = client.get_users(usernames=usernames, user_fields=['created_at','description','id','name','public_metrics','username','verified','location'])"
   ]
  },
  {
   "cell_type": "code",
   "execution_count": 6,
   "metadata": {},
   "outputs": [],
   "source": [
    "for user in user_info.data:\n",
    "        user_info_df = user_info_df.append({'created_at':user.created_at,'id':user.id, 'name':user.name, 'username':user.username, 'followers_count':user.public_metrics.get('followers_count'),\n",
    "                                        'following_count': user.public_metrics.get('following_count'), 'tweet_count':user.public_metrics.get('tweet_count'), \n",
    "                                        'listed_count':user.public_metrics.get('listed_count'), 'description':user.description, 'location':user.location, 'verified':user.verified}, \n",
    "                                       ignore_index=True)\n",
    "        user_info_df.to_csv('../../data/twitter/user_info.csv', index=False)"
   ]
  },
  {
   "cell_type": "code",
   "execution_count": null,
   "metadata": {},
   "outputs": [],
   "source": []
  }
 ],
 "metadata": {
  "interpreter": {
   "hash": "ac59ebe37160ed0dfa835113d9b8498d9f09ceb179beaac4002f036b9467c963"
  },
  "kernelspec": {
   "display_name": "Python 3.9.9 64-bit",
   "language": "python",
   "name": "python3"
  },
  "language_info": {
   "codemirror_mode": {
    "name": "ipython",
    "version": 3
   },
   "file_extension": ".py",
   "mimetype": "text/x-python",
   "name": "python",
   "nbconvert_exporter": "python",
   "pygments_lexer": "ipython3",
   "version": "3.9.9"
  },
  "orig_nbformat": 4
 },
 "nbformat": 4,
 "nbformat_minor": 2
}
