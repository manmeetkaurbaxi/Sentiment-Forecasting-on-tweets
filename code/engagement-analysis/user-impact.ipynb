{
 "cells": [
  {
   "cell_type": "code",
   "execution_count": 1,
   "metadata": {},
   "outputs": [],
   "source": [
    "# Code adapted from https://github.com/manmeetkaurbaxi/2020-US-Elections\n",
    "import pandas as pd\n",
    "import tweepy\n",
    "import math\n",
    "import datetime\n",
    "import numpy as np\n",
    "from sklearn.preprocessing import LabelEncoder, MinMaxScaler, minmax_scale\n",
    "import plotly.express as px\n",
    "\n",
    "import warnings\n",
    "warnings.filterwarnings('ignore')"
   ]
  },
  {
   "cell_type": "code",
   "execution_count": 2,
   "metadata": {},
   "outputs": [],
   "source": [
    "user_info_df = pd.read_csv('../../data/twitter/user_info_reframe.csv')"
   ]
  },
  {
   "cell_type": "code",
   "execution_count": 3,
   "metadata": {},
   "outputs": [],
   "source": [
    "data_collection_end_time = '2021-12-31 23:59:59'\n",
    "def user_impact(tweet_count, created_at, followers_count, listed_count, following_count):\n",
    "    created_at = str(created_at)[:-6]\n",
    "    profile_age = (datetime.datetime.strptime(data_collection_end_time, '%Y-%m-%d %H:%M:%S') - datetime.datetime.strptime(created_at, '%Y-%m-%d %H:%M:%S')).days\n",
    "    \n",
    "    impact = np.round(((followers_count * listed_count * math.log10((followers_count/following_count) + 1)) / (tweet_count * profile_age)), 7)\n",
    "    \n",
    "    return impact"
   ]
  },
  {
   "cell_type": "code",
   "execution_count": 4,
   "metadata": {},
   "outputs": [],
   "source": [
    "user_info_df['user_impact'] = user_info_df[['tweet_count','created_at','followers_count','listed_count','following_count']].apply(lambda x: user_impact(*x), axis=1)"
   ]
  },
  {
   "cell_type": "code",
   "execution_count": 5,
   "metadata": {},
   "outputs": [
    {
     "data": {
      "text/html": [
       "<div>\n",
       "<style scoped>\n",
       "    .dataframe tbody tr th:only-of-type {\n",
       "        vertical-align: middle;\n",
       "    }\n",
       "\n",
       "    .dataframe tbody tr th {\n",
       "        vertical-align: top;\n",
       "    }\n",
       "\n",
       "    .dataframe thead th {\n",
       "        text-align: right;\n",
       "    }\n",
       "</style>\n",
       "<table border=\"1\" class=\"dataframe\">\n",
       "  <thead>\n",
       "    <tr style=\"text-align: right;\">\n",
       "      <th></th>\n",
       "      <th>created_at</th>\n",
       "      <th>id</th>\n",
       "      <th>name</th>\n",
       "      <th>username</th>\n",
       "      <th>followers_count</th>\n",
       "      <th>following_count</th>\n",
       "      <th>tweet_count</th>\n",
       "      <th>listed_count</th>\n",
       "      <th>description</th>\n",
       "      <th>location</th>\n",
       "      <th>verified</th>\n",
       "      <th>user_impact</th>\n",
       "      <th>user_impact_scaled</th>\n",
       "      <th>group</th>\n",
       "      <th>group_category</th>\n",
       "      <th>user_impact_scaled_by_group</th>\n",
       "    </tr>\n",
       "  </thead>\n",
       "  <tbody>\n",
       "    <tr>\n",
       "      <th>0</th>\n",
       "      <td>2010-05-21 19:40:40+00:00</td>\n",
       "      <td>146569971</td>\n",
       "      <td>CDC</td>\n",
       "      <td>CDCgov</td>\n",
       "      <td>4733986</td>\n",
       "      <td>256</td>\n",
       "      <td>32478</td>\n",
       "      <td>19751</td>\n",
       "      <td>CDC's official Twitter source for daily credib...</td>\n",
       "      <td>Atlanta, GA</td>\n",
       "      <td>True</td>\n",
       "      <td>2895.875102</td>\n",
       "      <td>0.694244</td>\n",
       "      <td>Public Health Organizations</td>\n",
       "      <td>1</td>\n",
       "      <td>1.000000</td>\n",
       "    </tr>\n",
       "    <tr>\n",
       "      <th>1</th>\n",
       "      <td>2008-07-24 19:35:55+00:00</td>\n",
       "      <td>15587500</td>\n",
       "      <td>CDC_eHealth</td>\n",
       "      <td>CDC_eHealth</td>\n",
       "      <td>696810</td>\n",
       "      <td>153</td>\n",
       "      <td>7423</td>\n",
       "      <td>7788</td>\n",
       "      <td>Digital &amp; social media updates from @CDCgov. #...</td>\n",
       "      <td>Atlanta, GA</td>\n",
       "      <td>True</td>\n",
       "      <td>544.956119</td>\n",
       "      <td>0.130635</td>\n",
       "      <td>Public Health Organizations</td>\n",
       "      <td>1</td>\n",
       "      <td>0.188169</td>\n",
       "    </tr>\n",
       "    <tr>\n",
       "      <th>2</th>\n",
       "      <td>2010-05-06 18:27:46+00:00</td>\n",
       "      <td>140924167</td>\n",
       "      <td>GCIndigenous</td>\n",
       "      <td>GCIndigenous</td>\n",
       "      <td>38479</td>\n",
       "      <td>277</td>\n",
       "      <td>11888</td>\n",
       "      <td>569</td>\n",
       "      <td>GCIndigenous is a Government of Canada account...</td>\n",
       "      <td>Canada</td>\n",
       "      <td>True</td>\n",
       "      <td>0.928378</td>\n",
       "      <td>0.000210</td>\n",
       "      <td>Public Health Organizations</td>\n",
       "      <td>1</td>\n",
       "      <td>0.000302</td>\n",
       "    </tr>\n",
       "    <tr>\n",
       "      <th>3</th>\n",
       "      <td>2009-04-29 14:53:41+00:00</td>\n",
       "      <td>36375825</td>\n",
       "      <td>Health Canada and PHAC</td>\n",
       "      <td>GovCanHealth</td>\n",
       "      <td>427566</td>\n",
       "      <td>70</td>\n",
       "      <td>26574</td>\n",
       "      <td>3054</td>\n",
       "      <td>HC and PHAC - #COVID19 updates - Promoting and...</td>\n",
       "      <td>Canada</td>\n",
       "      <td>True</td>\n",
       "      <td>40.188886</td>\n",
       "      <td>0.009622</td>\n",
       "      <td>Public Health Organizations</td>\n",
       "      <td>1</td>\n",
       "      <td>0.013860</td>\n",
       "    </tr>\n",
       "    <tr>\n",
       "      <th>4</th>\n",
       "      <td>2009-06-05 01:14:31+00:00</td>\n",
       "      <td>44783853</td>\n",
       "      <td>HHS.gov</td>\n",
       "      <td>HHSGov</td>\n",
       "      <td>1240591</td>\n",
       "      <td>357</td>\n",
       "      <td>26895</td>\n",
       "      <td>9790</td>\n",
       "      <td>News and information from the U.S. Department ...</td>\n",
       "      <td>Washington, D.C.</td>\n",
       "      <td>True</td>\n",
       "      <td>348.236498</td>\n",
       "      <td>0.083473</td>\n",
       "      <td>Public Health Organizations</td>\n",
       "      <td>1</td>\n",
       "      <td>0.120236</td>\n",
       "    </tr>\n",
       "    <tr>\n",
       "      <th>5</th>\n",
       "      <td>2017-09-22 19:09:34+00:00</td>\n",
       "      <td>911306494536224768</td>\n",
       "      <td>IndianHealthService</td>\n",
       "      <td>IHSgov</td>\n",
       "      <td>6088</td>\n",
       "      <td>278</td>\n",
       "      <td>2510</td>\n",
       "      <td>102</td>\n",
       "      <td>IHS, part of @HHSGov, provides healthcare for ...</td>\n",
       "      <td>Rockville, MD</td>\n",
       "      <td>True</td>\n",
       "      <td>0.215516</td>\n",
       "      <td>0.000039</td>\n",
       "      <td>Public Health Organizations</td>\n",
       "      <td>1</td>\n",
       "      <td>0.000056</td>\n",
       "    </tr>\n",
       "    <tr>\n",
       "      <th>6</th>\n",
       "      <td>2009-06-11 17:53:31+00:00</td>\n",
       "      <td>46444445</td>\n",
       "      <td>Canadian Food Inspection Agency</td>\n",
       "      <td>InspectionCan</td>\n",
       "      <td>63546</td>\n",
       "      <td>200</td>\n",
       "      <td>10787</td>\n",
       "      <td>689</td>\n",
       "      <td>We’re making it easier for you to find all the...</td>\n",
       "      <td>Canada</td>\n",
       "      <td>True</td>\n",
       "      <td>2.215679</td>\n",
       "      <td>0.000518</td>\n",
       "      <td>Public Health Organizations</td>\n",
       "      <td>1</td>\n",
       "      <td>0.000747</td>\n",
       "    </tr>\n",
       "    <tr>\n",
       "      <th>7</th>\n",
       "      <td>2008-06-16 13:57:45+00:00</td>\n",
       "      <td>15134240</td>\n",
       "      <td>NIH</td>\n",
       "      <td>NIH</td>\n",
       "      <td>1502497</td>\n",
       "      <td>319</td>\n",
       "      <td>15142</td>\n",
       "      <td>12092</td>\n",
       "      <td>Official Twitter account of the National Insti...</td>\n",
       "      <td>Bethesda, Maryland, USA</td>\n",
       "      <td>True</td>\n",
       "      <td>891.064084</td>\n",
       "      <td>0.213611</td>\n",
       "      <td>Public Health Organizations</td>\n",
       "      <td>1</td>\n",
       "      <td>0.307688</td>\n",
       "    </tr>\n",
       "    <tr>\n",
       "      <th>8</th>\n",
       "      <td>2012-10-24 22:58:51+00:00</td>\n",
       "      <td>902769558</td>\n",
       "      <td>NIHB</td>\n",
       "      <td>NIHB1</td>\n",
       "      <td>8084</td>\n",
       "      <td>1828</td>\n",
       "      <td>3471</td>\n",
       "      <td>105</td>\n",
       "      <td>The National Indian Health Board advocates on ...</td>\n",
       "      <td>Washington, D.C.</td>\n",
       "      <td>False</td>\n",
       "      <td>0.053515</td>\n",
       "      <td>0.000000</td>\n",
       "      <td>Public Health Organizations</td>\n",
       "      <td>1</td>\n",
       "      <td>0.000000</td>\n",
       "    </tr>\n",
       "    <tr>\n",
       "      <th>9</th>\n",
       "      <td>2010-10-26 17:31:41+00:00</td>\n",
       "      <td>208120290</td>\n",
       "      <td>U.S. FDA</td>\n",
       "      <td>US_FDA</td>\n",
       "      <td>529000</td>\n",
       "      <td>161</td>\n",
       "      <td>16597</td>\n",
       "      <td>4986</td>\n",
       "      <td>Our tweets are FDA Approved!               Pri...</td>\n",
       "      <td>Silver Spring, MD</td>\n",
       "      <td>True</td>\n",
       "      <td>136.847098</td>\n",
       "      <td>0.032795</td>\n",
       "      <td>Public Health Organizations</td>\n",
       "      <td>1</td>\n",
       "      <td>0.047238</td>\n",
       "    </tr>\n",
       "    <tr>\n",
       "      <th>10</th>\n",
       "      <td>2009-08-03 07:53:16+00:00</td>\n",
       "      <td>62465691</td>\n",
       "      <td>AstraZeneca</td>\n",
       "      <td>AstraZeneca</td>\n",
       "      <td>298594</td>\n",
       "      <td>1691</td>\n",
       "      <td>7959</td>\n",
       "      <td>2723</td>\n",
       "      <td>We're driven by innovative science to deliver ...</td>\n",
       "      <td>Global</td>\n",
       "      <td>True</td>\n",
       "      <td>50.693148</td>\n",
       "      <td>0.012140</td>\n",
       "      <td>Pharmaceutical Companies</td>\n",
       "      <td>0</td>\n",
       "      <td>0.504731</td>\n",
       "    </tr>\n",
       "    <tr>\n",
       "      <th>11</th>\n",
       "      <td>2010-06-14 18:40:14+00:00</td>\n",
       "      <td>155650832</td>\n",
       "      <td>Biogen</td>\n",
       "      <td>biogen</td>\n",
       "      <td>42644</td>\n",
       "      <td>252</td>\n",
       "      <td>5428</td>\n",
       "      <td>647</td>\n",
       "      <td>Official Twitter channel for Biogen. Focused o...</td>\n",
       "      <td>Cambridge, MA</td>\n",
       "      <td>True</td>\n",
       "      <td>2.688553</td>\n",
       "      <td>0.000632</td>\n",
       "      <td>Pharmaceutical Companies</td>\n",
       "      <td>0</td>\n",
       "      <td>0.000000</td>\n",
       "    </tr>\n",
       "    <tr>\n",
       "      <th>12</th>\n",
       "      <td>2007-04-21 18:19:31+00:00</td>\n",
       "      <td>5383942</td>\n",
       "      <td>GSK</td>\n",
       "      <td>GSK</td>\n",
       "      <td>234062</td>\n",
       "      <td>725</td>\n",
       "      <td>13028</td>\n",
       "      <td>2279</td>\n",
       "      <td>Latest news and views from science-led global ...</td>\n",
       "      <td>London, UK</td>\n",
       "      <td>True</td>\n",
       "      <td>19.147710</td>\n",
       "      <td>0.004578</td>\n",
       "      <td>Pharmaceutical Companies</td>\n",
       "      <td>0</td>\n",
       "      <td>0.173055</td>\n",
       "    </tr>\n",
       "    <tr>\n",
       "      <th>13</th>\n",
       "      <td>2009-02-09 19:12:13+00:00</td>\n",
       "      <td>20457806</td>\n",
       "      <td>Johnson &amp; Johnson</td>\n",
       "      <td>JNJNews</td>\n",
       "      <td>246452</td>\n",
       "      <td>2451</td>\n",
       "      <td>15563</td>\n",
       "      <td>2907</td>\n",
       "      <td>At Johnson &amp; Johnson, we blend heart, science ...</td>\n",
       "      <td>NaN</td>\n",
       "      <td>True</td>\n",
       "      <td>19.621274</td>\n",
       "      <td>0.004691</td>\n",
       "      <td>Pharmaceutical Companies</td>\n",
       "      <td>0</td>\n",
       "      <td>0.178034</td>\n",
       "    </tr>\n",
       "    <tr>\n",
       "      <th>14</th>\n",
       "      <td>2009-07-13 20:48:42+00:00</td>\n",
       "      <td>56488059</td>\n",
       "      <td>Pfizer Inc.</td>\n",
       "      <td>pfizer</td>\n",
       "      <td>479914</td>\n",
       "      <td>2352</td>\n",
       "      <td>10560</td>\n",
       "      <td>4239</td>\n",
       "      <td>Breakthroughs that change patients' lives. Vis...</td>\n",
       "      <td>New York, NY</td>\n",
       "      <td>True</td>\n",
       "      <td>97.797875</td>\n",
       "      <td>0.023433</td>\n",
       "      <td>Pharmaceutical Companies</td>\n",
       "      <td>0</td>\n",
       "      <td>1.000000</td>\n",
       "    </tr>\n",
       "    <tr>\n",
       "      <th>15</th>\n",
       "      <td>2008-04-23 19:56:27+00:00</td>\n",
       "      <td>14499829</td>\n",
       "      <td>World Health Organization (WHO)</td>\n",
       "      <td>WHO</td>\n",
       "      <td>10729774</td>\n",
       "      <td>1746</td>\n",
       "      <td>68018</td>\n",
       "      <td>34897</td>\n",
       "      <td>We are the #UnitedNations’ health agency - #He...</td>\n",
       "      <td>Geneva, Switzerland</td>\n",
       "      <td>True</td>\n",
       "      <td>4171.243180</td>\n",
       "      <td>1.000000</td>\n",
       "      <td>WHO</td>\n",
       "      <td>2</td>\n",
       "      <td>0.000000</td>\n",
       "    </tr>\n",
       "  </tbody>\n",
       "</table>\n",
       "</div>"
      ],
      "text/plain": [
       "                   created_at                  id  \\\n",
       "0   2010-05-21 19:40:40+00:00           146569971   \n",
       "1   2008-07-24 19:35:55+00:00            15587500   \n",
       "2   2010-05-06 18:27:46+00:00           140924167   \n",
       "3   2009-04-29 14:53:41+00:00            36375825   \n",
       "4   2009-06-05 01:14:31+00:00            44783853   \n",
       "5   2017-09-22 19:09:34+00:00  911306494536224768   \n",
       "6   2009-06-11 17:53:31+00:00            46444445   \n",
       "7   2008-06-16 13:57:45+00:00            15134240   \n",
       "8   2012-10-24 22:58:51+00:00           902769558   \n",
       "9   2010-10-26 17:31:41+00:00           208120290   \n",
       "10  2009-08-03 07:53:16+00:00            62465691   \n",
       "11  2010-06-14 18:40:14+00:00           155650832   \n",
       "12  2007-04-21 18:19:31+00:00             5383942   \n",
       "13  2009-02-09 19:12:13+00:00            20457806   \n",
       "14  2009-07-13 20:48:42+00:00            56488059   \n",
       "15  2008-04-23 19:56:27+00:00            14499829   \n",
       "\n",
       "                               name       username  followers_count  \\\n",
       "0                               CDC         CDCgov          4733986   \n",
       "1                       CDC_eHealth    CDC_eHealth           696810   \n",
       "2                      GCIndigenous   GCIndigenous            38479   \n",
       "3            Health Canada and PHAC   GovCanHealth           427566   \n",
       "4                           HHS.gov         HHSGov          1240591   \n",
       "5               IndianHealthService         IHSgov             6088   \n",
       "6   Canadian Food Inspection Agency  InspectionCan            63546   \n",
       "7                               NIH            NIH          1502497   \n",
       "8                              NIHB          NIHB1             8084   \n",
       "9                          U.S. FDA         US_FDA           529000   \n",
       "10                      AstraZeneca    AstraZeneca           298594   \n",
       "11                           Biogen         biogen            42644   \n",
       "12                              GSK            GSK           234062   \n",
       "13                Johnson & Johnson        JNJNews           246452   \n",
       "14                      Pfizer Inc.         pfizer           479914   \n",
       "15  World Health Organization (WHO)            WHO         10729774   \n",
       "\n",
       "    following_count  tweet_count  listed_count  \\\n",
       "0               256        32478         19751   \n",
       "1               153         7423          7788   \n",
       "2               277        11888           569   \n",
       "3                70        26574          3054   \n",
       "4               357        26895          9790   \n",
       "5               278         2510           102   \n",
       "6               200        10787           689   \n",
       "7               319        15142         12092   \n",
       "8              1828         3471           105   \n",
       "9               161        16597          4986   \n",
       "10             1691         7959          2723   \n",
       "11              252         5428           647   \n",
       "12              725        13028          2279   \n",
       "13             2451        15563          2907   \n",
       "14             2352        10560          4239   \n",
       "15             1746        68018         34897   \n",
       "\n",
       "                                          description  \\\n",
       "0   CDC's official Twitter source for daily credib...   \n",
       "1   Digital & social media updates from @CDCgov. #...   \n",
       "2   GCIndigenous is a Government of Canada account...   \n",
       "3   HC and PHAC - #COVID19 updates - Promoting and...   \n",
       "4   News and information from the U.S. Department ...   \n",
       "5   IHS, part of @HHSGov, provides healthcare for ...   \n",
       "6   We’re making it easier for you to find all the...   \n",
       "7   Official Twitter account of the National Insti...   \n",
       "8   The National Indian Health Board advocates on ...   \n",
       "9   Our tweets are FDA Approved!               Pri...   \n",
       "10  We're driven by innovative science to deliver ...   \n",
       "11  Official Twitter channel for Biogen. Focused o...   \n",
       "12  Latest news and views from science-led global ...   \n",
       "13  At Johnson & Johnson, we blend heart, science ...   \n",
       "14  Breakthroughs that change patients' lives. Vis...   \n",
       "15  We are the #UnitedNations’ health agency - #He...   \n",
       "\n",
       "                   location  verified  user_impact  user_impact_scaled  \\\n",
       "0               Atlanta, GA      True  2895.875102            0.694244   \n",
       "1               Atlanta, GA      True   544.956119            0.130635   \n",
       "2                    Canada      True     0.928378            0.000210   \n",
       "3                    Canada      True    40.188886            0.009622   \n",
       "4          Washington, D.C.      True   348.236498            0.083473   \n",
       "5             Rockville, MD      True     0.215516            0.000039   \n",
       "6                    Canada      True     2.215679            0.000518   \n",
       "7   Bethesda, Maryland, USA      True   891.064084            0.213611   \n",
       "8          Washington, D.C.     False     0.053515            0.000000   \n",
       "9         Silver Spring, MD      True   136.847098            0.032795   \n",
       "10                   Global      True    50.693148            0.012140   \n",
       "11            Cambridge, MA      True     2.688553            0.000632   \n",
       "12               London, UK      True    19.147710            0.004578   \n",
       "13                      NaN      True    19.621274            0.004691   \n",
       "14             New York, NY      True    97.797875            0.023433   \n",
       "15      Geneva, Switzerland      True  4171.243180            1.000000   \n",
       "\n",
       "                          group  group_category  user_impact_scaled_by_group  \n",
       "0   Public Health Organizations               1                     1.000000  \n",
       "1   Public Health Organizations               1                     0.188169  \n",
       "2   Public Health Organizations               1                     0.000302  \n",
       "3   Public Health Organizations               1                     0.013860  \n",
       "4   Public Health Organizations               1                     0.120236  \n",
       "5   Public Health Organizations               1                     0.000056  \n",
       "6   Public Health Organizations               1                     0.000747  \n",
       "7   Public Health Organizations               1                     0.307688  \n",
       "8   Public Health Organizations               1                     0.000000  \n",
       "9   Public Health Organizations               1                     0.047238  \n",
       "10     Pharmaceutical Companies               0                     0.504731  \n",
       "11     Pharmaceutical Companies               0                     0.000000  \n",
       "12     Pharmaceutical Companies               0                     0.173055  \n",
       "13     Pharmaceutical Companies               0                     0.178034  \n",
       "14     Pharmaceutical Companies               0                     1.000000  \n",
       "15                          WHO               2                     0.000000  "
      ]
     },
     "execution_count": 5,
     "metadata": {},
     "output_type": "execute_result"
    }
   ],
   "source": [
    "user_info_df"
   ]
  },
  {
   "cell_type": "code",
   "execution_count": 6,
   "metadata": {},
   "outputs": [],
   "source": [
    "minMaxScaler = MinMaxScaler()\n",
    "user_info_df[['user_impact_scaled']] = minMaxScaler.fit_transform(user_info_df[['user_impact']])"
   ]
  },
  {
   "cell_type": "code",
   "execution_count": 7,
   "metadata": {},
   "outputs": [],
   "source": [
    "user_info_df['group'] = ''\n",
    "\n",
    "user_info_df.iloc[:10]['group'] = 'Public Health Organizations'\n",
    "user_info_df.iloc[10:15]['group'] = 'Pharmaceutical Companies'\n",
    "user_info_df.iloc[15:]['group'] = 'WHO'"
   ]
  },
  {
   "cell_type": "code",
   "execution_count": 8,
   "metadata": {},
   "outputs": [],
   "source": [
    "labelEncoder = LabelEncoder()\n",
    "user_info_df['group_category'] = labelEncoder.fit_transform(user_info_df['group'])\n",
    "user_info_df['user_impact_scaled_by_group'] = user_info_df.groupby('group_category').user_impact.transform(lambda x:minmax_scale(x.astype(float)))"
   ]
  },
  {
   "cell_type": "markdown",
   "metadata": {},
   "source": [
    "### Plots"
   ]
  },
  {
   "cell_type": "code",
   "execution_count": 9,
   "metadata": {},
   "outputs": [
    {
     "data": {
      "application/vnd.plotly.v1+json": {
       "config": {
        "plotlyServerURL": "https://plot.ly"
       },
       "data": [
        {
         "alignmentgroup": "True",
         "hovertemplate": "group=Public Health Organizations<br>username=%{x}<br>user_impact=%{y}<extra></extra>",
         "legendgroup": "Public Health Organizations",
         "marker": {
          "color": "#636efa",
          "pattern": {
           "shape": ""
          }
         },
         "name": "Public Health Organizations",
         "offsetgroup": "Public Health Organizations",
         "orientation": "v",
         "showlegend": true,
         "textposition": "auto",
         "type": "bar",
         "x": [
          "CDCgov",
          "CDC_eHealth",
          "GCIndigenous",
          "GovCanHealth",
          "HHSGov",
          "IHSgov",
          "InspectionCan",
          "NIH",
          "NIHB1",
          "US_FDA"
         ],
         "xaxis": "x",
         "y": [
          2895.875102,
          544.9561194,
          0.9283779,
          40.1888858,
          348.236498,
          0.2155163,
          2.2156795,
          891.0640838,
          0.0535148,
          136.8470976
         ],
         "yaxis": "y"
        },
        {
         "alignmentgroup": "True",
         "hovertemplate": "group=Pharmaceutical Companies<br>username=%{x}<br>user_impact=%{y}<extra></extra>",
         "legendgroup": "Pharmaceutical Companies",
         "marker": {
          "color": "#EF553B",
          "pattern": {
           "shape": ""
          }
         },
         "name": "Pharmaceutical Companies",
         "offsetgroup": "Pharmaceutical Companies",
         "orientation": "v",
         "showlegend": true,
         "textposition": "auto",
         "type": "bar",
         "x": [
          "AstraZeneca",
          "biogen",
          "GSK",
          "JNJNews",
          "pfizer"
         ],
         "xaxis": "x",
         "y": [
          50.6931479,
          2.6885526,
          19.14771,
          19.6212741,
          97.7978748
         ],
         "yaxis": "y"
        },
        {
         "alignmentgroup": "True",
         "hovertemplate": "group=WHO<br>username=%{x}<br>user_impact=%{y}<extra></extra>",
         "legendgroup": "WHO",
         "marker": {
          "color": "#00cc96",
          "pattern": {
           "shape": ""
          }
         },
         "name": "WHO",
         "offsetgroup": "WHO",
         "orientation": "v",
         "showlegend": true,
         "textposition": "auto",
         "type": "bar",
         "x": [
          "WHO"
         ],
         "xaxis": "x",
         "y": [
          4171.2431795
         ],
         "yaxis": "y"
        }
       ],
       "layout": {
        "barmode": "relative",
        "font": {
         "color": "#000000",
         "size": 20
        },
        "height": 500,
        "legend": {
         "font": {
          "size": 16
         },
         "title": {
          "text": "Type of Organization"
         },
         "tracegroupgap": 0,
         "traceorder": "normal",
         "x": 0.01,
         "y": 0.98
        },
        "margin": {
         "b": 10,
         "l": 10,
         "r": 10,
         "t": 10
        },
        "template": {
         "data": {
          "bar": [
           {
            "error_x": {
             "color": "#2a3f5f"
            },
            "error_y": {
             "color": "#2a3f5f"
            },
            "marker": {
             "line": {
              "color": "#E5ECF6",
              "width": 0.5
             },
             "pattern": {
              "fillmode": "overlay",
              "size": 10,
              "solidity": 0.2
             }
            },
            "type": "bar"
           }
          ],
          "barpolar": [
           {
            "marker": {
             "line": {
              "color": "#E5ECF6",
              "width": 0.5
             },
             "pattern": {
              "fillmode": "overlay",
              "size": 10,
              "solidity": 0.2
             }
            },
            "type": "barpolar"
           }
          ],
          "carpet": [
           {
            "aaxis": {
             "endlinecolor": "#2a3f5f",
             "gridcolor": "white",
             "linecolor": "white",
             "minorgridcolor": "white",
             "startlinecolor": "#2a3f5f"
            },
            "baxis": {
             "endlinecolor": "#2a3f5f",
             "gridcolor": "white",
             "linecolor": "white",
             "minorgridcolor": "white",
             "startlinecolor": "#2a3f5f"
            },
            "type": "carpet"
           }
          ],
          "choropleth": [
           {
            "colorbar": {
             "outlinewidth": 0,
             "ticks": ""
            },
            "type": "choropleth"
           }
          ],
          "contour": [
           {
            "colorbar": {
             "outlinewidth": 0,
             "ticks": ""
            },
            "colorscale": [
             [
              0,
              "#0d0887"
             ],
             [
              0.1111111111111111,
              "#46039f"
             ],
             [
              0.2222222222222222,
              "#7201a8"
             ],
             [
              0.3333333333333333,
              "#9c179e"
             ],
             [
              0.4444444444444444,
              "#bd3786"
             ],
             [
              0.5555555555555556,
              "#d8576b"
             ],
             [
              0.6666666666666666,
              "#ed7953"
             ],
             [
              0.7777777777777778,
              "#fb9f3a"
             ],
             [
              0.8888888888888888,
              "#fdca26"
             ],
             [
              1,
              "#f0f921"
             ]
            ],
            "type": "contour"
           }
          ],
          "contourcarpet": [
           {
            "colorbar": {
             "outlinewidth": 0,
             "ticks": ""
            },
            "type": "contourcarpet"
           }
          ],
          "heatmap": [
           {
            "colorbar": {
             "outlinewidth": 0,
             "ticks": ""
            },
            "colorscale": [
             [
              0,
              "#0d0887"
             ],
             [
              0.1111111111111111,
              "#46039f"
             ],
             [
              0.2222222222222222,
              "#7201a8"
             ],
             [
              0.3333333333333333,
              "#9c179e"
             ],
             [
              0.4444444444444444,
              "#bd3786"
             ],
             [
              0.5555555555555556,
              "#d8576b"
             ],
             [
              0.6666666666666666,
              "#ed7953"
             ],
             [
              0.7777777777777778,
              "#fb9f3a"
             ],
             [
              0.8888888888888888,
              "#fdca26"
             ],
             [
              1,
              "#f0f921"
             ]
            ],
            "type": "heatmap"
           }
          ],
          "heatmapgl": [
           {
            "colorbar": {
             "outlinewidth": 0,
             "ticks": ""
            },
            "colorscale": [
             [
              0,
              "#0d0887"
             ],
             [
              0.1111111111111111,
              "#46039f"
             ],
             [
              0.2222222222222222,
              "#7201a8"
             ],
             [
              0.3333333333333333,
              "#9c179e"
             ],
             [
              0.4444444444444444,
              "#bd3786"
             ],
             [
              0.5555555555555556,
              "#d8576b"
             ],
             [
              0.6666666666666666,
              "#ed7953"
             ],
             [
              0.7777777777777778,
              "#fb9f3a"
             ],
             [
              0.8888888888888888,
              "#fdca26"
             ],
             [
              1,
              "#f0f921"
             ]
            ],
            "type": "heatmapgl"
           }
          ],
          "histogram": [
           {
            "marker": {
             "pattern": {
              "fillmode": "overlay",
              "size": 10,
              "solidity": 0.2
             }
            },
            "type": "histogram"
           }
          ],
          "histogram2d": [
           {
            "colorbar": {
             "outlinewidth": 0,
             "ticks": ""
            },
            "colorscale": [
             [
              0,
              "#0d0887"
             ],
             [
              0.1111111111111111,
              "#46039f"
             ],
             [
              0.2222222222222222,
              "#7201a8"
             ],
             [
              0.3333333333333333,
              "#9c179e"
             ],
             [
              0.4444444444444444,
              "#bd3786"
             ],
             [
              0.5555555555555556,
              "#d8576b"
             ],
             [
              0.6666666666666666,
              "#ed7953"
             ],
             [
              0.7777777777777778,
              "#fb9f3a"
             ],
             [
              0.8888888888888888,
              "#fdca26"
             ],
             [
              1,
              "#f0f921"
             ]
            ],
            "type": "histogram2d"
           }
          ],
          "histogram2dcontour": [
           {
            "colorbar": {
             "outlinewidth": 0,
             "ticks": ""
            },
            "colorscale": [
             [
              0,
              "#0d0887"
             ],
             [
              0.1111111111111111,
              "#46039f"
             ],
             [
              0.2222222222222222,
              "#7201a8"
             ],
             [
              0.3333333333333333,
              "#9c179e"
             ],
             [
              0.4444444444444444,
              "#bd3786"
             ],
             [
              0.5555555555555556,
              "#d8576b"
             ],
             [
              0.6666666666666666,
              "#ed7953"
             ],
             [
              0.7777777777777778,
              "#fb9f3a"
             ],
             [
              0.8888888888888888,
              "#fdca26"
             ],
             [
              1,
              "#f0f921"
             ]
            ],
            "type": "histogram2dcontour"
           }
          ],
          "mesh3d": [
           {
            "colorbar": {
             "outlinewidth": 0,
             "ticks": ""
            },
            "type": "mesh3d"
           }
          ],
          "parcoords": [
           {
            "line": {
             "colorbar": {
              "outlinewidth": 0,
              "ticks": ""
             }
            },
            "type": "parcoords"
           }
          ],
          "pie": [
           {
            "automargin": true,
            "type": "pie"
           }
          ],
          "scatter": [
           {
            "marker": {
             "colorbar": {
              "outlinewidth": 0,
              "ticks": ""
             }
            },
            "type": "scatter"
           }
          ],
          "scatter3d": [
           {
            "line": {
             "colorbar": {
              "outlinewidth": 0,
              "ticks": ""
             }
            },
            "marker": {
             "colorbar": {
              "outlinewidth": 0,
              "ticks": ""
             }
            },
            "type": "scatter3d"
           }
          ],
          "scattercarpet": [
           {
            "marker": {
             "colorbar": {
              "outlinewidth": 0,
              "ticks": ""
             }
            },
            "type": "scattercarpet"
           }
          ],
          "scattergeo": [
           {
            "marker": {
             "colorbar": {
              "outlinewidth": 0,
              "ticks": ""
             }
            },
            "type": "scattergeo"
           }
          ],
          "scattergl": [
           {
            "marker": {
             "colorbar": {
              "outlinewidth": 0,
              "ticks": ""
             }
            },
            "type": "scattergl"
           }
          ],
          "scattermapbox": [
           {
            "marker": {
             "colorbar": {
              "outlinewidth": 0,
              "ticks": ""
             }
            },
            "type": "scattermapbox"
           }
          ],
          "scatterpolar": [
           {
            "marker": {
             "colorbar": {
              "outlinewidth": 0,
              "ticks": ""
             }
            },
            "type": "scatterpolar"
           }
          ],
          "scatterpolargl": [
           {
            "marker": {
             "colorbar": {
              "outlinewidth": 0,
              "ticks": ""
             }
            },
            "type": "scatterpolargl"
           }
          ],
          "scatterternary": [
           {
            "marker": {
             "colorbar": {
              "outlinewidth": 0,
              "ticks": ""
             }
            },
            "type": "scatterternary"
           }
          ],
          "surface": [
           {
            "colorbar": {
             "outlinewidth": 0,
             "ticks": ""
            },
            "colorscale": [
             [
              0,
              "#0d0887"
             ],
             [
              0.1111111111111111,
              "#46039f"
             ],
             [
              0.2222222222222222,
              "#7201a8"
             ],
             [
              0.3333333333333333,
              "#9c179e"
             ],
             [
              0.4444444444444444,
              "#bd3786"
             ],
             [
              0.5555555555555556,
              "#d8576b"
             ],
             [
              0.6666666666666666,
              "#ed7953"
             ],
             [
              0.7777777777777778,
              "#fb9f3a"
             ],
             [
              0.8888888888888888,
              "#fdca26"
             ],
             [
              1,
              "#f0f921"
             ]
            ],
            "type": "surface"
           }
          ],
          "table": [
           {
            "cells": {
             "fill": {
              "color": "#EBF0F8"
             },
             "line": {
              "color": "white"
             }
            },
            "header": {
             "fill": {
              "color": "#C8D4E3"
             },
             "line": {
              "color": "white"
             }
            },
            "type": "table"
           }
          ]
         },
         "layout": {
          "annotationdefaults": {
           "arrowcolor": "#2a3f5f",
           "arrowhead": 0,
           "arrowwidth": 1
          },
          "autotypenumbers": "strict",
          "coloraxis": {
           "colorbar": {
            "outlinewidth": 0,
            "ticks": ""
           }
          },
          "colorscale": {
           "diverging": [
            [
             0,
             "#8e0152"
            ],
            [
             0.1,
             "#c51b7d"
            ],
            [
             0.2,
             "#de77ae"
            ],
            [
             0.3,
             "#f1b6da"
            ],
            [
             0.4,
             "#fde0ef"
            ],
            [
             0.5,
             "#f7f7f7"
            ],
            [
             0.6,
             "#e6f5d0"
            ],
            [
             0.7,
             "#b8e186"
            ],
            [
             0.8,
             "#7fbc41"
            ],
            [
             0.9,
             "#4d9221"
            ],
            [
             1,
             "#276419"
            ]
           ],
           "sequential": [
            [
             0,
             "#0d0887"
            ],
            [
             0.1111111111111111,
             "#46039f"
            ],
            [
             0.2222222222222222,
             "#7201a8"
            ],
            [
             0.3333333333333333,
             "#9c179e"
            ],
            [
             0.4444444444444444,
             "#bd3786"
            ],
            [
             0.5555555555555556,
             "#d8576b"
            ],
            [
             0.6666666666666666,
             "#ed7953"
            ],
            [
             0.7777777777777778,
             "#fb9f3a"
            ],
            [
             0.8888888888888888,
             "#fdca26"
            ],
            [
             1,
             "#f0f921"
            ]
           ],
           "sequentialminus": [
            [
             0,
             "#0d0887"
            ],
            [
             0.1111111111111111,
             "#46039f"
            ],
            [
             0.2222222222222222,
             "#7201a8"
            ],
            [
             0.3333333333333333,
             "#9c179e"
            ],
            [
             0.4444444444444444,
             "#bd3786"
            ],
            [
             0.5555555555555556,
             "#d8576b"
            ],
            [
             0.6666666666666666,
             "#ed7953"
            ],
            [
             0.7777777777777778,
             "#fb9f3a"
            ],
            [
             0.8888888888888888,
             "#fdca26"
            ],
            [
             1,
             "#f0f921"
            ]
           ]
          },
          "colorway": [
           "#636efa",
           "#EF553B",
           "#00cc96",
           "#ab63fa",
           "#FFA15A",
           "#19d3f3",
           "#FF6692",
           "#B6E880",
           "#FF97FF",
           "#FECB52"
          ],
          "font": {
           "color": "#2a3f5f"
          },
          "geo": {
           "bgcolor": "white",
           "lakecolor": "white",
           "landcolor": "#E5ECF6",
           "showlakes": true,
           "showland": true,
           "subunitcolor": "white"
          },
          "hoverlabel": {
           "align": "left"
          },
          "hovermode": "closest",
          "mapbox": {
           "style": "light"
          },
          "paper_bgcolor": "white",
          "plot_bgcolor": "#E5ECF6",
          "polar": {
           "angularaxis": {
            "gridcolor": "white",
            "linecolor": "white",
            "ticks": ""
           },
           "bgcolor": "#E5ECF6",
           "radialaxis": {
            "gridcolor": "white",
            "linecolor": "white",
            "ticks": ""
           }
          },
          "scene": {
           "xaxis": {
            "backgroundcolor": "#E5ECF6",
            "gridcolor": "white",
            "gridwidth": 2,
            "linecolor": "white",
            "showbackground": true,
            "ticks": "",
            "zerolinecolor": "white"
           },
           "yaxis": {
            "backgroundcolor": "#E5ECF6",
            "gridcolor": "white",
            "gridwidth": 2,
            "linecolor": "white",
            "showbackground": true,
            "ticks": "",
            "zerolinecolor": "white"
           },
           "zaxis": {
            "backgroundcolor": "#E5ECF6",
            "gridcolor": "white",
            "gridwidth": 2,
            "linecolor": "white",
            "showbackground": true,
            "ticks": "",
            "zerolinecolor": "white"
           }
          },
          "shapedefaults": {
           "line": {
            "color": "#2a3f5f"
           }
          },
          "ternary": {
           "aaxis": {
            "gridcolor": "white",
            "linecolor": "white",
            "ticks": ""
           },
           "baxis": {
            "gridcolor": "white",
            "linecolor": "white",
            "ticks": ""
           },
           "bgcolor": "#E5ECF6",
           "caxis": {
            "gridcolor": "white",
            "linecolor": "white",
            "ticks": ""
           }
          },
          "title": {
           "x": 0.05
          },
          "xaxis": {
           "automargin": true,
           "gridcolor": "white",
           "linecolor": "white",
           "ticks": "",
           "title": {
            "standoff": 15
           },
           "zerolinecolor": "white",
           "zerolinewidth": 2
          },
          "yaxis": {
           "automargin": true,
           "gridcolor": "white",
           "linecolor": "white",
           "ticks": "",
           "title": {
            "standoff": 15
           },
           "zerolinecolor": "white",
           "zerolinewidth": 2
          }
         }
        },
        "width": 1000,
        "xaxis": {
         "anchor": "y",
         "domain": [
          0,
          1
         ],
         "title": {
          "text": "Username"
         }
        },
        "yaxis": {
         "anchor": "x",
         "domain": [
          0,
          1
         ],
         "title": {
          "text": "User Impact"
         }
        }
       }
      }
     },
     "metadata": {},
     "output_type": "display_data"
    }
   ],
   "source": [
    "fig = px.bar(user_info_df, x='username', y='user_impact', color='group', width=1000, height=500)\n",
    "fig.update_layout(yaxis_title = 'User Impact', xaxis_title = 'Username',\n",
    "    font = dict(\n",
    "        size = 20,\n",
    "        color = '#000000'\n",
    "    ),\n",
    "    # autosize = True,\n",
    "    legend=dict(\n",
    "        x=0.01,\n",
    "        y=0.98,\n",
    "        title_text='',\n",
    "        traceorder='normal',\n",
    "        font=dict(\n",
    "            size=16,),\n",
    "    ),\n",
    "    margin = dict(\n",
    "        l = 10,\n",
    "        b = 10,\n",
    "        r = 10,\n",
    "        t = 10\n",
    "    ), \n",
    "    legend_title_text = 'Type of Organization'\n",
    ")\n",
    "fig.show()\n",
    "# fig.write_image('../../results/engagement-analysis/user-impact/user-impact.pdf', engine='kaleido')"
   ]
  },
  {
   "cell_type": "code",
   "execution_count": 13,
   "metadata": {},
   "outputs": [
    {
     "data": {
      "application/vnd.plotly.v1+json": {
       "config": {
        "plotlyServerURL": "https://plot.ly"
       },
       "data": [
        {
         "alignmentgroup": "True",
         "hovertemplate": "group=Public Health Organizations<br>username=%{x}<br>user_impact_scaled=%{y}<extra></extra>",
         "legendgroup": "Public Health Organizations",
         "marker": {
          "color": "#636efa",
          "pattern": {
           "shape": ""
          }
         },
         "name": "Public Health Organizations",
         "offsetgroup": "Public Health Organizations",
         "orientation": "v",
         "showlegend": true,
         "textposition": "auto",
         "type": "bar",
         "x": [
          "CDCgov",
          "CDC_eHealth",
          "GCIndigenous",
          "GovCanHealth",
          "HHSGov",
          "IHSgov",
          "InspectionCan",
          "NIH",
          "NIHB1",
          "US_FDA"
         ],
         "xaxis": "x",
         "y": [
          0.6942435659799404,
          0.13063481845752764,
          0.00020973946771200627,
          0.009622044123204984,
          0.08347330406636927,
          0.000038838200375060494,
          0.000518356841526051,
          0.2136106580193311,
          0,
          0.03279486041060625
         ],
         "yaxis": "y"
        },
        {
         "alignmentgroup": "True",
         "hovertemplate": "group=Pharmaceutical Companies<br>username=%{x}<br>user_impact_scaled=%{y}<extra></extra>",
         "legendgroup": "Pharmaceutical Companies",
         "marker": {
          "color": "#EF553B",
          "pattern": {
           "shape": ""
          }
         },
         "name": "Pharmaceutical Companies",
         "offsetgroup": "Pharmaceutical Companies",
         "orientation": "v",
         "showlegend": true,
         "textposition": "auto",
         "type": "bar",
         "x": [
          "AstraZeneca",
          "biogen",
          "GSK",
          "JNJNews",
          "pfizer"
         ],
         "xaxis": "x",
         "y": [
          0.012140333375044958,
          0.0006317233239955098,
          0.004577637732848883,
          0.004691169875490989,
          0.023433209193816404
         ],
         "yaxis": "y"
        },
        {
         "alignmentgroup": "True",
         "hovertemplate": "group=WHO<br>username=%{x}<br>user_impact_scaled=%{y}<extra></extra>",
         "legendgroup": "WHO",
         "marker": {
          "color": "#00cc96",
          "pattern": {
           "shape": ""
          }
         },
         "name": "WHO",
         "offsetgroup": "WHO",
         "orientation": "v",
         "showlegend": true,
         "textposition": "auto",
         "type": "bar",
         "x": [
          "WHO"
         ],
         "xaxis": "x",
         "y": [
          1
         ],
         "yaxis": "y"
        }
       ],
       "layout": {
        "barmode": "relative",
        "font": {
         "color": "#000000",
         "size": 20
        },
        "height": 500,
        "legend": {
         "font": {
          "size": 20
         },
         "title": {
          "text": ""
         },
         "tracegroupgap": 0,
         "traceorder": "normal",
         "x": 0.01,
         "y": 0.98
        },
        "margin": {
         "b": 10,
         "l": 10,
         "r": 10,
         "t": 10
        },
        "template": {
         "data": {
          "bar": [
           {
            "error_x": {
             "color": "#2a3f5f"
            },
            "error_y": {
             "color": "#2a3f5f"
            },
            "marker": {
             "line": {
              "color": "#E5ECF6",
              "width": 0.5
             },
             "pattern": {
              "fillmode": "overlay",
              "size": 10,
              "solidity": 0.2
             }
            },
            "type": "bar"
           }
          ],
          "barpolar": [
           {
            "marker": {
             "line": {
              "color": "#E5ECF6",
              "width": 0.5
             },
             "pattern": {
              "fillmode": "overlay",
              "size": 10,
              "solidity": 0.2
             }
            },
            "type": "barpolar"
           }
          ],
          "carpet": [
           {
            "aaxis": {
             "endlinecolor": "#2a3f5f",
             "gridcolor": "white",
             "linecolor": "white",
             "minorgridcolor": "white",
             "startlinecolor": "#2a3f5f"
            },
            "baxis": {
             "endlinecolor": "#2a3f5f",
             "gridcolor": "white",
             "linecolor": "white",
             "minorgridcolor": "white",
             "startlinecolor": "#2a3f5f"
            },
            "type": "carpet"
           }
          ],
          "choropleth": [
           {
            "colorbar": {
             "outlinewidth": 0,
             "ticks": ""
            },
            "type": "choropleth"
           }
          ],
          "contour": [
           {
            "colorbar": {
             "outlinewidth": 0,
             "ticks": ""
            },
            "colorscale": [
             [
              0,
              "#0d0887"
             ],
             [
              0.1111111111111111,
              "#46039f"
             ],
             [
              0.2222222222222222,
              "#7201a8"
             ],
             [
              0.3333333333333333,
              "#9c179e"
             ],
             [
              0.4444444444444444,
              "#bd3786"
             ],
             [
              0.5555555555555556,
              "#d8576b"
             ],
             [
              0.6666666666666666,
              "#ed7953"
             ],
             [
              0.7777777777777778,
              "#fb9f3a"
             ],
             [
              0.8888888888888888,
              "#fdca26"
             ],
             [
              1,
              "#f0f921"
             ]
            ],
            "type": "contour"
           }
          ],
          "contourcarpet": [
           {
            "colorbar": {
             "outlinewidth": 0,
             "ticks": ""
            },
            "type": "contourcarpet"
           }
          ],
          "heatmap": [
           {
            "colorbar": {
             "outlinewidth": 0,
             "ticks": ""
            },
            "colorscale": [
             [
              0,
              "#0d0887"
             ],
             [
              0.1111111111111111,
              "#46039f"
             ],
             [
              0.2222222222222222,
              "#7201a8"
             ],
             [
              0.3333333333333333,
              "#9c179e"
             ],
             [
              0.4444444444444444,
              "#bd3786"
             ],
             [
              0.5555555555555556,
              "#d8576b"
             ],
             [
              0.6666666666666666,
              "#ed7953"
             ],
             [
              0.7777777777777778,
              "#fb9f3a"
             ],
             [
              0.8888888888888888,
              "#fdca26"
             ],
             [
              1,
              "#f0f921"
             ]
            ],
            "type": "heatmap"
           }
          ],
          "heatmapgl": [
           {
            "colorbar": {
             "outlinewidth": 0,
             "ticks": ""
            },
            "colorscale": [
             [
              0,
              "#0d0887"
             ],
             [
              0.1111111111111111,
              "#46039f"
             ],
             [
              0.2222222222222222,
              "#7201a8"
             ],
             [
              0.3333333333333333,
              "#9c179e"
             ],
             [
              0.4444444444444444,
              "#bd3786"
             ],
             [
              0.5555555555555556,
              "#d8576b"
             ],
             [
              0.6666666666666666,
              "#ed7953"
             ],
             [
              0.7777777777777778,
              "#fb9f3a"
             ],
             [
              0.8888888888888888,
              "#fdca26"
             ],
             [
              1,
              "#f0f921"
             ]
            ],
            "type": "heatmapgl"
           }
          ],
          "histogram": [
           {
            "marker": {
             "pattern": {
              "fillmode": "overlay",
              "size": 10,
              "solidity": 0.2
             }
            },
            "type": "histogram"
           }
          ],
          "histogram2d": [
           {
            "colorbar": {
             "outlinewidth": 0,
             "ticks": ""
            },
            "colorscale": [
             [
              0,
              "#0d0887"
             ],
             [
              0.1111111111111111,
              "#46039f"
             ],
             [
              0.2222222222222222,
              "#7201a8"
             ],
             [
              0.3333333333333333,
              "#9c179e"
             ],
             [
              0.4444444444444444,
              "#bd3786"
             ],
             [
              0.5555555555555556,
              "#d8576b"
             ],
             [
              0.6666666666666666,
              "#ed7953"
             ],
             [
              0.7777777777777778,
              "#fb9f3a"
             ],
             [
              0.8888888888888888,
              "#fdca26"
             ],
             [
              1,
              "#f0f921"
             ]
            ],
            "type": "histogram2d"
           }
          ],
          "histogram2dcontour": [
           {
            "colorbar": {
             "outlinewidth": 0,
             "ticks": ""
            },
            "colorscale": [
             [
              0,
              "#0d0887"
             ],
             [
              0.1111111111111111,
              "#46039f"
             ],
             [
              0.2222222222222222,
              "#7201a8"
             ],
             [
              0.3333333333333333,
              "#9c179e"
             ],
             [
              0.4444444444444444,
              "#bd3786"
             ],
             [
              0.5555555555555556,
              "#d8576b"
             ],
             [
              0.6666666666666666,
              "#ed7953"
             ],
             [
              0.7777777777777778,
              "#fb9f3a"
             ],
             [
              0.8888888888888888,
              "#fdca26"
             ],
             [
              1,
              "#f0f921"
             ]
            ],
            "type": "histogram2dcontour"
           }
          ],
          "mesh3d": [
           {
            "colorbar": {
             "outlinewidth": 0,
             "ticks": ""
            },
            "type": "mesh3d"
           }
          ],
          "parcoords": [
           {
            "line": {
             "colorbar": {
              "outlinewidth": 0,
              "ticks": ""
             }
            },
            "type": "parcoords"
           }
          ],
          "pie": [
           {
            "automargin": true,
            "type": "pie"
           }
          ],
          "scatter": [
           {
            "marker": {
             "colorbar": {
              "outlinewidth": 0,
              "ticks": ""
             }
            },
            "type": "scatter"
           }
          ],
          "scatter3d": [
           {
            "line": {
             "colorbar": {
              "outlinewidth": 0,
              "ticks": ""
             }
            },
            "marker": {
             "colorbar": {
              "outlinewidth": 0,
              "ticks": ""
             }
            },
            "type": "scatter3d"
           }
          ],
          "scattercarpet": [
           {
            "marker": {
             "colorbar": {
              "outlinewidth": 0,
              "ticks": ""
             }
            },
            "type": "scattercarpet"
           }
          ],
          "scattergeo": [
           {
            "marker": {
             "colorbar": {
              "outlinewidth": 0,
              "ticks": ""
             }
            },
            "type": "scattergeo"
           }
          ],
          "scattergl": [
           {
            "marker": {
             "colorbar": {
              "outlinewidth": 0,
              "ticks": ""
             }
            },
            "type": "scattergl"
           }
          ],
          "scattermapbox": [
           {
            "marker": {
             "colorbar": {
              "outlinewidth": 0,
              "ticks": ""
             }
            },
            "type": "scattermapbox"
           }
          ],
          "scatterpolar": [
           {
            "marker": {
             "colorbar": {
              "outlinewidth": 0,
              "ticks": ""
             }
            },
            "type": "scatterpolar"
           }
          ],
          "scatterpolargl": [
           {
            "marker": {
             "colorbar": {
              "outlinewidth": 0,
              "ticks": ""
             }
            },
            "type": "scatterpolargl"
           }
          ],
          "scatterternary": [
           {
            "marker": {
             "colorbar": {
              "outlinewidth": 0,
              "ticks": ""
             }
            },
            "type": "scatterternary"
           }
          ],
          "surface": [
           {
            "colorbar": {
             "outlinewidth": 0,
             "ticks": ""
            },
            "colorscale": [
             [
              0,
              "#0d0887"
             ],
             [
              0.1111111111111111,
              "#46039f"
             ],
             [
              0.2222222222222222,
              "#7201a8"
             ],
             [
              0.3333333333333333,
              "#9c179e"
             ],
             [
              0.4444444444444444,
              "#bd3786"
             ],
             [
              0.5555555555555556,
              "#d8576b"
             ],
             [
              0.6666666666666666,
              "#ed7953"
             ],
             [
              0.7777777777777778,
              "#fb9f3a"
             ],
             [
              0.8888888888888888,
              "#fdca26"
             ],
             [
              1,
              "#f0f921"
             ]
            ],
            "type": "surface"
           }
          ],
          "table": [
           {
            "cells": {
             "fill": {
              "color": "#EBF0F8"
             },
             "line": {
              "color": "white"
             }
            },
            "header": {
             "fill": {
              "color": "#C8D4E3"
             },
             "line": {
              "color": "white"
             }
            },
            "type": "table"
           }
          ]
         },
         "layout": {
          "annotationdefaults": {
           "arrowcolor": "#2a3f5f",
           "arrowhead": 0,
           "arrowwidth": 1
          },
          "autotypenumbers": "strict",
          "coloraxis": {
           "colorbar": {
            "outlinewidth": 0,
            "ticks": ""
           }
          },
          "colorscale": {
           "diverging": [
            [
             0,
             "#8e0152"
            ],
            [
             0.1,
             "#c51b7d"
            ],
            [
             0.2,
             "#de77ae"
            ],
            [
             0.3,
             "#f1b6da"
            ],
            [
             0.4,
             "#fde0ef"
            ],
            [
             0.5,
             "#f7f7f7"
            ],
            [
             0.6,
             "#e6f5d0"
            ],
            [
             0.7,
             "#b8e186"
            ],
            [
             0.8,
             "#7fbc41"
            ],
            [
             0.9,
             "#4d9221"
            ],
            [
             1,
             "#276419"
            ]
           ],
           "sequential": [
            [
             0,
             "#0d0887"
            ],
            [
             0.1111111111111111,
             "#46039f"
            ],
            [
             0.2222222222222222,
             "#7201a8"
            ],
            [
             0.3333333333333333,
             "#9c179e"
            ],
            [
             0.4444444444444444,
             "#bd3786"
            ],
            [
             0.5555555555555556,
             "#d8576b"
            ],
            [
             0.6666666666666666,
             "#ed7953"
            ],
            [
             0.7777777777777778,
             "#fb9f3a"
            ],
            [
             0.8888888888888888,
             "#fdca26"
            ],
            [
             1,
             "#f0f921"
            ]
           ],
           "sequentialminus": [
            [
             0,
             "#0d0887"
            ],
            [
             0.1111111111111111,
             "#46039f"
            ],
            [
             0.2222222222222222,
             "#7201a8"
            ],
            [
             0.3333333333333333,
             "#9c179e"
            ],
            [
             0.4444444444444444,
             "#bd3786"
            ],
            [
             0.5555555555555556,
             "#d8576b"
            ],
            [
             0.6666666666666666,
             "#ed7953"
            ],
            [
             0.7777777777777778,
             "#fb9f3a"
            ],
            [
             0.8888888888888888,
             "#fdca26"
            ],
            [
             1,
             "#f0f921"
            ]
           ]
          },
          "colorway": [
           "#636efa",
           "#EF553B",
           "#00cc96",
           "#ab63fa",
           "#FFA15A",
           "#19d3f3",
           "#FF6692",
           "#B6E880",
           "#FF97FF",
           "#FECB52"
          ],
          "font": {
           "color": "#2a3f5f"
          },
          "geo": {
           "bgcolor": "white",
           "lakecolor": "white",
           "landcolor": "#E5ECF6",
           "showlakes": true,
           "showland": true,
           "subunitcolor": "white"
          },
          "hoverlabel": {
           "align": "left"
          },
          "hovermode": "closest",
          "mapbox": {
           "style": "light"
          },
          "paper_bgcolor": "white",
          "plot_bgcolor": "#E5ECF6",
          "polar": {
           "angularaxis": {
            "gridcolor": "white",
            "linecolor": "white",
            "ticks": ""
           },
           "bgcolor": "#E5ECF6",
           "radialaxis": {
            "gridcolor": "white",
            "linecolor": "white",
            "ticks": ""
           }
          },
          "scene": {
           "xaxis": {
            "backgroundcolor": "#E5ECF6",
            "gridcolor": "white",
            "gridwidth": 2,
            "linecolor": "white",
            "showbackground": true,
            "ticks": "",
            "zerolinecolor": "white"
           },
           "yaxis": {
            "backgroundcolor": "#E5ECF6",
            "gridcolor": "white",
            "gridwidth": 2,
            "linecolor": "white",
            "showbackground": true,
            "ticks": "",
            "zerolinecolor": "white"
           },
           "zaxis": {
            "backgroundcolor": "#E5ECF6",
            "gridcolor": "white",
            "gridwidth": 2,
            "linecolor": "white",
            "showbackground": true,
            "ticks": "",
            "zerolinecolor": "white"
           }
          },
          "shapedefaults": {
           "line": {
            "color": "#2a3f5f"
           }
          },
          "ternary": {
           "aaxis": {
            "gridcolor": "white",
            "linecolor": "white",
            "ticks": ""
           },
           "baxis": {
            "gridcolor": "white",
            "linecolor": "white",
            "ticks": ""
           },
           "bgcolor": "#E5ECF6",
           "caxis": {
            "gridcolor": "white",
            "linecolor": "white",
            "ticks": ""
           }
          },
          "title": {
           "x": 0.05
          },
          "xaxis": {
           "automargin": true,
           "gridcolor": "white",
           "linecolor": "white",
           "ticks": "",
           "title": {
            "standoff": 15
           },
           "zerolinecolor": "white",
           "zerolinewidth": 2
          },
          "yaxis": {
           "automargin": true,
           "gridcolor": "white",
           "linecolor": "white",
           "ticks": "",
           "title": {
            "standoff": 15
           },
           "zerolinecolor": "white",
           "zerolinewidth": 2
          }
         }
        },
        "width": 1000,
        "xaxis": {
         "anchor": "y",
         "domain": [
          0,
          1
         ],
         "title": {
          "text": "Username"
         }
        },
        "yaxis": {
         "anchor": "x",
         "domain": [
          0,
          1
         ],
         "title": {
          "text": "User Impact"
         }
        }
       }
      }
     },
     "metadata": {},
     "output_type": "display_data"
    }
   ],
   "source": [
    "fig = px.bar(user_info_df, x='username', y='user_impact_scaled', color='group', width=1000, height=500)\n",
    "fig.update_layout(yaxis_title = 'User Impact', xaxis_title = 'Username',\n",
    "    font = dict(\n",
    "        size = 20,\n",
    "        color = '#000000'\n",
    "    ),\n",
    "    # autosize = True,\n",
    "    legend=dict(\n",
    "        x=0.01,\n",
    "        y=0.98,\n",
    "        title_text='',\n",
    "        traceorder='normal',\n",
    "        font=dict(\n",
    "            size=20,),\n",
    "    ),\n",
    "    margin = dict(\n",
    "        l = 10,\n",
    "        b = 10,\n",
    "        r = 10,\n",
    "        t = 10\n",
    "    ), \n",
    "    # legend_title_text = 'Type of Organization' \n",
    "fig.show()\n",
    "# fig.write_image('../../results/engagement-analysis/user-impact/user-impact-scaled.pdf', engine='kaleido')"
   ]
  },
  {
   "cell_type": "code",
   "execution_count": 11,
   "metadata": {},
   "outputs": [],
   "source": [
    "user_info_df.to_csv('../../data/twitter/user_info_reframe.csv', index=False)"
   ]
  },
  {
   "cell_type": "code",
   "execution_count": null,
   "metadata": {},
   "outputs": [],
   "source": []
  }
 ],
 "metadata": {
  "interpreter": {
   "hash": "ac59ebe37160ed0dfa835113d9b8498d9f09ceb179beaac4002f036b9467c963"
  },
  "kernelspec": {
   "display_name": "Python 3.9.9 64-bit",
   "language": "python",
   "name": "python3"
  },
  "language_info": {
   "codemirror_mode": {
    "name": "ipython",
    "version": 3
   },
   "file_extension": ".py",
   "mimetype": "text/x-python",
   "name": "python",
   "nbconvert_exporter": "python",
   "pygments_lexer": "ipython3",
   "version": "3.9.9"
  },
  "orig_nbformat": 4
 },
 "nbformat": 4,
 "nbformat_minor": 2
}
