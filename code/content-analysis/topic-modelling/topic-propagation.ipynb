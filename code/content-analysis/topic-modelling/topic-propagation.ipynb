{
 "cells": [
  {
   "cell_type": "code",
   "execution_count": 1,
   "metadata": {},
   "outputs": [],
   "source": [
    "import glob\n",
    "import numpy as np\n",
    "import pandas as pd\n",
    "import re\n",
    "import ast"
   ]
  },
  {
   "cell_type": "code",
   "execution_count": 2,
   "metadata": {},
   "outputs": [],
   "source": [
    "# Constants\n",
    "PHARMA_PATH = '../../../data/twitter/combined data/pharma companies'\n",
    "GOVT_INSTITUTES_PATH = '../../../data/twitter/combined data/public health agencies'\n",
    "NGO_PATH = '../../../data/twitter/combined data/ngo'"
   ]
  },
  {
   "cell_type": "markdown",
   "metadata": {},
   "source": [
    "### Load data"
   ]
  },
  {
   "cell_type": "code",
   "execution_count": 3,
   "metadata": {},
   "outputs": [],
   "source": [
    "topic_df = pd.read_csv('../../../data/topic-keywords.csv')"
   ]
  },
  {
   "cell_type": "code",
   "execution_count": 4,
   "metadata": {},
   "outputs": [
    {
     "data": {
      "text/plain": [
       "Index(['time-phase', 'topic', 'topic-keywords'], dtype='object')"
      ]
     },
     "execution_count": 4,
     "metadata": {},
     "output_type": "execute_result"
    }
   ],
   "source": [
    "topic_df.columns"
   ]
  },
  {
   "cell_type": "code",
   "execution_count": 5,
   "metadata": {},
   "outputs": [],
   "source": [
    "def isPhraseIn(phrase, text):\n",
    "    '''\n",
    "    Returns a boolean value testifying if the phrase exists in the tweet\n",
    "    '''\n",
    "    return re.search(r\"\\b{}\\b\".format(phrase), text, re.IGNORECASE) is not None"
   ]
  },
  {
   "cell_type": "code",
   "execution_count": 6,
   "metadata": {},
   "outputs": [
    {
     "name": "stdout",
     "output_type": "stream",
     "text": [
      "====================================================================================================\n",
      "During COVID:  AstraZeneca\n",
      "COVID-19 235\n",
      "Vaccination 46\n",
      "Mental Health 0\n",
      "Nutrition and Well-being 216\n",
      "Community Healthcare 181\n",
      "Health Research 322\n",
      "Chronic Diseases 680\n",
      "Medical Trials 14\n",
      "====================================================================================================\n",
      "During COVID:  biogen\n",
      "COVID-19 49\n",
      "Vaccination 4\n",
      "Mental Health 10\n",
      "Nutrition and Well-being 384\n",
      "Community Healthcare 191\n",
      "Health Research 124\n",
      "Chronic Diseases 268\n",
      "Medical Trials 8\n",
      "====================================================================================================\n",
      "During COVID:  GSK\n",
      "COVID-19 398\n",
      "Vaccination 195\n",
      "Mental Health 0\n",
      "Nutrition and Well-being 319\n",
      "Community Healthcare 128\n",
      "Health Research 655\n",
      "Chronic Diseases 391\n",
      "Medical Trials 24\n",
      "====================================================================================================\n",
      "During COVID:  JNJNews\n",
      "COVID-19 307\n",
      "Vaccination 314\n",
      "Mental Health 25\n",
      "Nutrition and Well-being 364\n",
      "Community Healthcare 203\n",
      "Health Research 526\n",
      "Chronic Diseases 165\n",
      "Medical Trials 24\n",
      "====================================================================================================\n",
      "During COVID:  pfizer\n",
      "COVID-19 396\n",
      "Vaccination 329\n",
      "Mental Health 19\n",
      "Nutrition and Well-being 436\n",
      "Community Healthcare 193\n",
      "Health Research 665\n",
      "Chronic Diseases 614\n",
      "Medical Trials 85\n"
     ]
    }
   ],
   "source": [
    "# pre_covid_topic_df = pd.DataFrame(columns=['username','topic','tweetCount'])\n",
    "during_covid_topic_df = pd.DataFrame(columns=['username','topic','tweetCount'])\n",
    "\n",
    "for file in glob.glob(PHARMA_PATH + \"/*.csv\"):\n",
    "    user_df = pd.read_csv(file)\n",
    "    username = user_df['username'].unique()[0]\n",
    "    \n",
    "    # Divide dataframe into pre and post-covid times\n",
    "    # Convert 'created_at' column to datetime\n",
    "    user_df['created_at'] = user_df['created_at'].str[:-6]\n",
    "    user_df['created_at'] = pd.to_datetime(user_df['created_at'])\n",
    "    # Sort by datetime ascending\n",
    "    user_df = user_df.sort_values(by='created_at')\n",
    "    # Divide as per dates\n",
    "    # pre_covid_df = user_df.loc[user_df['created_at'] <= '2020-02-26 23:59:59']\n",
    "    during_covid_df = user_df.loc[user_df['created_at'] >= '2020-02-27 00:00:00']\n",
    "    \n",
    "    # print('*'*100)\n",
    "    # print('Pre-COVID')\n",
    "    # for topic_index, topic_row in topic_df[topic_df['time-phase']=='Pre-COVID'].iterrows():\n",
    "    #     topic = topic_row['topic']\n",
    "    #     keywords = ast.literal_eval(topic_row['topic-keywords'])\n",
    "    #     topic_user_tweet_count = 0\n",
    "        \n",
    "    #     for index, row in pre_covid_df.iterrows():\n",
    "    #         for phrase in keywords:\n",
    "    #             if(isinstance(row.tweet, float)):\n",
    "    #                 row.tweet = str(row.tweet)\n",
    "    #             if phrase in row.tweet:                    \n",
    "    #                 topic_user_tweet_count += 1\n",
    "        \n",
    "    #     print(username, topic, topic_user_tweet_count)\n",
    "        \n",
    "    #     pre_covid_topic_df = pre_covid_topic_df.append({'username':username, 'topic':topic, 'tweetCount':topic_user_tweet_count}, ignore_index=True)\n",
    "    \n",
    "    print('='*100)\n",
    "    print('During COVID: ', username)\n",
    "    for topic_index, topic_row in topic_df[topic_df['time-phase']=='During COVID'].iterrows():\n",
    "        topic = topic_row['topic']\n",
    "        keywords = ast.literal_eval(topic_row['topic-keywords'])\n",
    "        topic_user_tweet_count = 0\n",
    "        \n",
    "        for index, row in during_covid_df.iterrows():\n",
    "            for phrase in keywords:\n",
    "                if(isinstance(row.tweet, float)):\n",
    "                    row.tweet = str(row.tweet)\n",
    "                if phrase in row.tweet:                    \n",
    "                    topic_user_tweet_count += 1\n",
    "        \n",
    "        print(topic, topic_user_tweet_count)\n",
    "        \n",
    "        during_covid_topic_df = during_covid_topic_df.append({'organization':username, 'topic':topic, 'tweetCount':topic_user_tweet_count}, ignore_index=True)\n",
    "    \n",
    "# pre_covid_topic_df.to_csv('pre-covid-pharma-companies.csv', index=False)\n",
    "during_covid_topic_df.to_csv('during-covid-pc.csv', index=False)"
   ]
  },
  {
   "cell_type": "code",
   "execution_count": null,
   "metadata": {},
   "outputs": [],
   "source": []
  }
 ],
 "metadata": {
  "interpreter": {
   "hash": "ac59ebe37160ed0dfa835113d9b8498d9f09ceb179beaac4002f036b9467c963"
  },
  "kernelspec": {
   "display_name": "Python 3.9.9 64-bit",
   "language": "python",
   "name": "python3"
  },
  "language_info": {
   "codemirror_mode": {
    "name": "ipython",
    "version": 3
   },
   "file_extension": ".py",
   "mimetype": "text/x-python",
   "name": "python",
   "nbconvert_exporter": "python",
   "pygments_lexer": "ipython3",
   "version": "3.9.9"
  },
  "orig_nbformat": 4
 },
 "nbformat": 4,
 "nbformat_minor": 2
}
